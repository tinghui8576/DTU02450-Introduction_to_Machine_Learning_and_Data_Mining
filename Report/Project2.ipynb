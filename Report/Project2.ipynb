{
  "cells": [
    {
      "cell_type": "code",
      "execution_count": 18,
      "metadata": {
        "id": "QQfEbH6EiGTu"
      },
      "outputs": [],
      "source": [
        "import numpy as np\n",
        "import pandas as pd\n",
        "import matplotlib.pyplot as plt\n",
        "from scipy.linalg import svd\n",
        "from sklearn.preprocessing import MinMaxScaler, LabelEncoder,  StandardScaler\n",
        "from matplotlib.pyplot import (figure, plot, title, xlabel, ylabel, \n",
        "                               colorbar, imshow, xticks, yticks, show)\n",
        "from sklearn import model_selection, tree\n",
        "from sklearn.neighbors import KNeighborsClassifier\n",
        "from sklearn.metrics import confusion_matrix, DistanceMetric\n",
        "import numpy as np"
      ]
    },
    {
      "cell_type": "markdown",
      "metadata": {
        "id": "l89XFFDBygRq"
      },
      "source": [
        "## Import file"
      ]
    },
    {
      "cell_type": "code",
      "execution_count": 19,
      "metadata": {
        "id": "pq9fI0lSPxT6"
      },
      "outputs": [],
      "source": [
        "# Load the heart csv data using the Pandas library\n",
        "filename = 'heart.csv'\n",
        "df = pd.read_csv(filename)\n"
      ]
    },
    {
      "cell_type": "code",
      "execution_count": 20,
      "metadata": {},
      "outputs": [
        {
          "name": "stdout",
          "output_type": "stream",
          "text": [
            "                 BMI  PhysicalHealth   MentalHealth      SleepTime\n",
            "count  319795.000000    319795.00000  319795.000000  319795.000000\n",
            "mean       28.325399         3.37171       3.898366       7.097075\n",
            "std         6.356100         7.95085       7.955235       1.436007\n",
            "min        12.020000         0.00000       0.000000       1.000000\n",
            "25%        24.030000         0.00000       0.000000       6.000000\n",
            "50%        27.340000         0.00000       0.000000       7.000000\n",
            "75%        31.420000         2.00000       3.000000       8.000000\n",
            "max        94.850000        30.00000      30.000000      24.000000\n"
          ]
        }
      ],
      "source": [
        "# Select columns 1 to 18\n",
        "selected_columns = df.iloc[:, 0:18]\n",
        "\n",
        "# Calculate basic summary statistics\n",
        "summary_statistics = selected_columns.describe()\n",
        "\n",
        "# Display the summary statistics\n",
        "print(summary_statistics)"
      ]
    },
    {
      "cell_type": "code",
      "execution_count": 21,
      "metadata": {},
      "outputs": [],
      "source": [
        "# drop the data set\n",
        "df = df.drop(df[(df.BMI > summary_statistics.BMI['mean']+2*summary_statistics.BMI['std'])\n",
        "            & (df.BMI < summary_statistics.BMI['mean']-2*summary_statistics.BMI['std'])\n",
        "            & (df.PhysicalHealth > summary_statistics.PhysicalHealth['mean']+2*summary_statistics.PhysicalHealth['std'])\n",
        "            & (df.PhysicalHealth < summary_statistics.PhysicalHealth['mean']-2*summary_statistics.PhysicalHealth['std'])\n",
        "            & (df.MentalHealth > summary_statistics.MentalHealth['mean']+2*summary_statistics.MentalHealth['std'])\n",
        "            & (df.MentalHealth < summary_statistics.MentalHealth['mean']-2*summary_statistics.MentalHealth['std'])\n",
        "            & (df.SleepTime > summary_statistics.SleepTime['mean']+2*summary_statistics.SleepTime['std'])\n",
        "            & (df.SleepTime < summary_statistics.SleepTime['mean']-2*summary_statistics.SleepTime['std'])].index)"
      ]
    },
    {
      "cell_type": "code",
      "execution_count": 24,
      "metadata": {},
      "outputs": [
        {
          "name": "stdout",
          "output_type": "stream",
          "text": [
            "54746\n"
          ]
        }
      ],
      "source": [
        "# Count the number of 'yes' and 'no' values in the 'label' column\n",
        "yes_count = df['HeartDisease'].value_counts()['Yes']\n",
        "no_count = df['HeartDisease'].value_counts()['No']\n",
        "\n",
        "\n",
        "# Determine the label to balance (either 'yes' or 'no')\n",
        "label_to_balance = 'Yes' if yes_count > no_count else 'No'\n",
        "label_to_keep = 'Yes' if yes_count <= no_count else 'No'\n",
        "\n",
        "# Calculate the difference in counts\n",
        "count_diff = yes_count \n",
        "\n",
        "# Get the columns where the label is equal to label_to_balance\n",
        "columns_to_balance = df[df['HeartDisease'] == label_to_balance]\n",
        "\n",
        "# Randomly sample rows to make the counts equal\n",
        "sampled_rows = columns_to_balance.sample(n=count_diff, random_state=42)\n",
        "\n",
        "# Concatenate the sampled rows with the rows where the label is equal to label_to_keep\n",
        "balance = pd.concat([df[df['HeartDisease'] == label_to_keep], sampled_rows])\n",
        "\n",
        "# Shuffle the rows to randomize the order\n",
        "balance = balance.sample(frac=1, random_state=42)\n",
        "\n",
        "df = balance \n",
        "\n",
        "\n",
        "print(len(df))"
      ]
    },
    {
      "cell_type": "code",
      "execution_count": 27,
      "metadata": {},
      "outputs": [],
      "source": [
        "# Transforme the discrete string into integer\n",
        "encoder = LabelEncoder()\n",
        "for col in df:\n",
        "  if col != \"BMI\":\n",
        "    df[col] = encoder.fit_transform(df[col])"
      ]
    },
    {
      "cell_type": "code",
      "execution_count": 28,
      "metadata": {},
      "outputs": [],
      "source": [
        "# Extract the data matrix, the class label and attribute names from the csv\n",
        "raw_data = df.values\n",
        "\n",
        "Data = raw_data[:,1:]\n",
        "Label = df.values [:,0]\n",
        "Attributes = np.asarray(df.columns[1:].str.slice(0, 3))"
      ]
    },
    {
      "cell_type": "code",
      "execution_count": 30,
      "metadata": {},
      "outputs": [
        {
          "name": "stdout",
          "output_type": "stream",
          "text": [
            "1    50.0\n",
            "0    50.0\n",
            "Name: HeartDisease, dtype: float64\n"
          ]
        }
      ],
      "source": [
        "# Summary of Dataset in percentages\n",
        "print(df['HeartDisease'].value_counts(normalize=True) * 100)\n"
      ]
    },
    {
      "cell_type": "code",
      "execution_count": 31,
      "metadata": {},
      "outputs": [],
      "source": [
        "# Assign each type of class with a number by making a Python dictionary\n",
        "# and extract the class vector y, convert to NumPy array\n",
        "classNames = np.unique(Label)\n",
        "classDict = dict(zip(classNames,range(len(classNames))))\n",
        "\n",
        "y = np.asarray([classDict[value] for value in Label])"
      ]
    },
    {
      "cell_type": "code",
      "execution_count": 32,
      "metadata": {},
      "outputs": [],
      "source": [
        "# Compute values of number of data(N), attributes(M) and classes(C).\n",
        "N = len(y)\n",
        "M = len(Attributes)\n",
        "C = len(classNames)"
      ]
    },
    {
      "cell_type": "code",
      "execution_count": 33,
      "metadata": {},
      "outputs": [
        {
          "name": "stdout",
          "output_type": "stream",
          "text": [
            "[[23.48  1.    0.   ...  0.    0.    0.  ]\n",
            " [36.58  1.    0.   ...  0.    0.    0.  ]\n",
            " [27.46  1.    0.   ...  0.    0.    0.  ]\n",
            " ...\n",
            " [26.45  0.    0.   ...  0.    0.    0.  ]\n",
            " [31.57  0.    0.   ...  0.    0.    1.  ]\n",
            " [28.59  1.    0.   ...  0.    0.    0.  ]]\n"
          ]
        }
      ],
      "source": [
        "X_train, X_test, y_train, y_test = model_selection.train_test_split(Data,Label,test_size=0.8)\n",
        "print(X_train)"
      ]
    },
    {
      "cell_type": "code",
      "execution_count": 14,
      "metadata": {},
      "outputs": [],
      "source": [
        "# # Plot the training data points (color-coded) and test data points.\n",
        "# figure(1)\n",
        "# styles = ['.b', '.r', '.g', '.y']\n",
        "# for c in range(C):\n",
        "#     class_mask = (y_train==c)\n",
        "#     print(class_mask)\n",
        "#     plot(X_train[class_mask,0], X_train[class_mask,1], styles[c])\n"
      ]
    },
    {
      "cell_type": "code",
      "execution_count": 13,
      "metadata": {},
      "outputs": [
        {
          "data": {
            "image/png": "[encoded data removed]",
            "text/plain": [
              "<Figure size 640x480 with 2 Axes>"
            ]
          },
          "metadata": {},
          "output_type": "display_data"
        },
        {
          "name": "stdout",
          "output_type": "stream",
          "text": [
            "Ran Exercise 6.3.1\n"
          ]
        }
      ],
      "source": [
        "K=3\n",
        "\n",
        "# Distance metric (corresponds to 2nd norm, euclidean distance).\n",
        "# You can set dist=1 to obtain manhattan distance (cityblock distance).\n",
        "dist= 2\n",
        "#metric = 'minkowski'\n",
        "#metric_params = {} # no parameters needed for minkowski\n",
        "\n",
        "# You can set the metric argument to 'cosine' to determine the cosine distance\n",
        "metric = 'cosine' \n",
        "metric_params = {} # no parameters needed for cosine\n",
        "\n",
        "# To use a mahalonobis distance, we need to input the covariance matrix, too:\n",
        "#metric='mahalanobis'\n",
        "#metric_params={'V': cov(X_train, rowvar=False)}\n",
        "\n",
        "# Fit classifier and classify the test points\n",
        "knclassifier = KNeighborsClassifier(n_neighbors=K, p=dist, \n",
        "                                    metric=metric,\n",
        "                                    metric_params=metric_params)\n",
        "knclassifier.fit(X_train, y_train)\n",
        "y_est = knclassifier.predict(X_test)\n",
        "\n",
        "\n",
        "# # Plot the classfication results\n",
        "# styles = ['ob', 'or', 'og', 'oy']\n",
        "# for c in range(C):\n",
        "#     class_mask = (y_est==c)\n",
        "#     plot(X_test[class_mask,0], X_test[class_mask,1], styles[c], markersize=10)\n",
        "#     plot(X_test[class_mask,0], X_test[class_mask,1], 'kx', markersize=8)\n",
        "# title('Synthetic data classification - KNN');\n",
        "\n",
        "# Compute and plot confusion matrix\n",
        "cm = confusion_matrix(y_test, y_est);\n",
        "accuracy = 100*cm.diagonal().sum()/cm.sum(); error_rate = 100-accuracy;\n",
        "figure(2);\n",
        "imshow(cm, cmap='binary', interpolation='None');\n",
        "colorbar()\n",
        "xticks(range(C)); yticks(range(C));\n",
        "xlabel('Predicted class'); ylabel('Actual class');\n",
        "title('Confusion matrix (Accuracy: {0}%, Error Rate: {1}%)'.format(accuracy, error_rate));\n",
        "\n",
        "show()\n"
      ]
    }
  ],
  "metadata": {
    "colab": {
      "provenance": []
    },
    "kernelspec": {
      "display_name": "Python 3",
      "name": "python3"
    },
    "language_info": {
      "codemirror_mode": {
        "name": "ipython",
        "version": 3
      },
      "file_extension": ".py",
      "mimetype": "text/x-python",
      "name": "python",
      "nbconvert_exporter": "python",
      "pygments_lexer": "ipython3",
      "version": "3.11.4"
    }
  },
  "nbformat": 4,
  "nbformat_minor": 0
}
